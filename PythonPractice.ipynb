{
 "cells": [
  {
   "cell_type": "markdown",
   "id": "equivalent-fashion",
   "metadata": {},
   "source": [
    "# 21 Python Mini Projects\n",
    "### Sareen and Gloria "
   ]
  },
  {
   "cell_type": "markdown",
   "id": "universal-roberts",
   "metadata": {},
   "source": [
    "### 1. Dice Roll Simulator"
   ]
  },
  {
   "cell_type": "code",
   "execution_count": 2,
   "id": "accredited-story",
   "metadata": {},
   "outputs": [],
   "source": [
    "# import modules needed\n",
    "import random"
   ]
  },
  {
   "cell_type": "code",
   "execution_count": 5,
   "id": "conditional-involvement",
   "metadata": {},
   "outputs": [
    {
     "name": "stdout",
     "output_type": "stream",
     "text": [
      "Enter your name:Gloria\n",
      "Hello, Gloria\n"
     ]
    }
   ],
   "source": [
    "# Allowing for user to insert their name\n",
    "x = input('Enter your name:')\n",
    "print('Hello, ' + x)"
   ]
  },
  {
   "cell_type": "code",
   "execution_count": 49,
   "id": "pressing-router",
   "metadata": {},
   "outputs": [
    {
     "name": "stdout",
     "output_type": "stream",
     "text": [
      "Press 1 to roll the dice:\n",
      "1\n",
      "Your number is: 6\n"
     ]
    }
   ],
   "source": [
    "# starting dice roll with binary input and converting into integer\n",
    "x = int(input('Press 1 to roll the dice:\\n'))\n",
    "\n",
    "# if user types 1, then simulate dice roll\n",
    "if x==1:\n",
    "    print(\"Your number is:\",random.randint(1,6))\n",
    "else: \n",
    "    None"
   ]
  },
  {
   "cell_type": "code",
   "execution_count": null,
   "id": "emerging-huntington",
   "metadata": {},
   "outputs": [],
   "source": []
  }
 ],
 "metadata": {
  "kernelspec": {
   "display_name": "Python 3",
   "language": "python",
   "name": "python3"
  },
  "language_info": {
   "codemirror_mode": {
    "name": "ipython",
    "version": 3
   },
   "file_extension": ".py",
   "mimetype": "text/x-python",
   "name": "python",
   "nbconvert_exporter": "python",
   "pygments_lexer": "ipython3",
   "version": "3.7.6"
  }
 },
 "nbformat": 4,
 "nbformat_minor": 5
}
